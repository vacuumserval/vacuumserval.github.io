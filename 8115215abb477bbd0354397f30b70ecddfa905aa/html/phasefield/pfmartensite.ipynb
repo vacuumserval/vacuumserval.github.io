{
 "cells": [
  {
   "cell_type": "markdown",
   "metadata": {},
   "source": [
    "# 相场方法仿真钛合金中的马氏体相变\n",
    "\n",
    "参考资料\n",
    "1. *XIANG H, VAN PAEPEGEM W, KESTENS L A I. Phase-field simulation of martensitic transformation with different conditions in inhomogeneous polycrystals[J/OL]. Computational Materials Science, 2023, 220: 112067. DOI:10.1016/j.commatsci.2023.112067.*\n",
    "2. *XIANG H, VAN PAEPEGEM W, KESTENS L A I. Study of Microstructural Morphology of Ti-6Al-4V Alloy by Crystallographic Analysis and Phase Field Simulation[J/OL]. Materials, 2022, 15(15): 5325. DOI:10.3390/ma15155325.*\n",
    "3. *HEO T W, CHEN L Q. Phase-field modeling of displacive phase transformations in elastically anisotropic and inhomogeneous polycrystals[J/OL]. Acta Materialia, 2014, 76: 68-81. DOI:10.1016/j.actamat.2014.05.014.*\n",
    "4. *GAO Y, ZHOU N, WANG D, 等. Pattern formation during cubic to orthorhombic martensitic transformations in shape memory alloys[J/OL]. Acta Materialia, 2014, 68: 93-105. DOI:10.1016/j.actamat.2014.01.012.*"
   ]
  },
  {
   "cell_type": "markdown",
   "metadata": {},
   "source": [
    "#### 文献2解读\n",
    "\n",
    "*During martensitic transformation, dislocation glide and/or twins are involved to accommodate the shear strain and produce the habit plane* - 在马氏体相变过程中，位错滑移和/或孪生作用参与其中，以提供剪切所需的应变，这个过程产生的面为*惯习面(the habit plane)*。\n",
    "\n",
    "*for the martensitic transformation of Ti-6Al-4V alloy, the lattice orthohexagonal reference system between BCC and HCP cells is shown in figure 1* - 对于Ti-6Al-4V合金的马氏体转变，图1展示了体心立方（BCC）和六方密排（HCP）晶格之间的正六边形晶格参考系：\n",
    "\n",
    "<img src=\"https://www.mdpi.com/materials/materials-15-05325/article_deploy/html/images/materials-15-05325-g001.png\" width=\"400\" alt=\"p1\">\n",
    "\n",
    "$$\n",
    "\\begin{align}\n",
    "x_o\\parallel [100] \\parallel [1\\bar{1}0]_\\beta &\\parallel [0001]_\\alpha \\\\\n",
    "y_o\\parallel [010] \\parallel [110]_\\beta &\\parallel [10\\bar{1}0]_\\alpha \\\\\n",
    "z_o\\parallel [001] \\parallel [001]_\\beta &\\parallel [\\bar{1}2\\bar{1}0]_\\alpha\n",
    "\\end{align}\n",
    "$$\n",
    "\n",
    "在$\\mathbf{n}_o=\\left\\{x_o, y_o, z_o\\right\\}$ 正交坐标系，变换矩阵为\n",
    "\n",
    "$$\n",
    "\\begin{align}\n",
    "\\mathbf{U}_o =\n",
    "\\begin{pmatrix}\n",
    "\\frac{c_\\alpha}{\\sqrt{2}a_\\beta} & 0 & 0 \\\\\n",
    "0 & \\frac{\\sqrt{3}a_\\alpha}{\\sqrt{2}a_\\beta} & 0 \\\\\n",
    "0 & 0 & \\frac{a_\\alpha}{a_\\beta} \n",
    "\\end{pmatrix}\n",
    "\\end{align}\n",
    "$$\n",
    "\n",
    "推导：\n",
    "\n",
    "* BCC晶胞的坐标系基矢是$\\left(a_\\beta\\hat{\\mathbf{x}}, a_\\beta\\hat{\\mathbf{y}}, a_\\beta\\hat{\\mathbf{z}}\\right)$\n",
    "* HCP晶胞的坐标系基矢是\n",
    "\n",
    "where the lattice parameters of $\\alpha$ and $\\beta$ phase are: $a_\\alpha = 0.29511 nm$, $c_\\alpha = 0.46843 nm$ and $a_\\beta = 0.33065 nm$."
   ]
  },
  {
   "cell_type": "markdown",
   "metadata": {},
   "source": []
  }
 ],
 "metadata": {
  "language_info": {
   "name": "python"
  }
 },
 "nbformat": 4,
 "nbformat_minor": 2
}
