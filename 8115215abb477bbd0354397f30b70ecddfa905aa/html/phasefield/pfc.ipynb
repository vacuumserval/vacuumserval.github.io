{
 "cells": [
  {
   "cell_type": "markdown",
   "metadata": {},
   "source": [
    "# Phase Field Crystal (2D)"
   ]
  },
  {
   "cell_type": "markdown",
   "metadata": {},
   "source": [
    "## Mode Expansion\n",
    "\n",
    "### Triangular (hexagonal) lattice\n",
    "\n",
    "#### the lattice vectors\n",
    "\n",
    "* the lattice vectors:\n",
    "\n",
    "$$\n",
    "\\begin{align}\n",
    "\\begin{cases}\n",
    "a_1 &= \\left(-\\frac{2a}{\\sqrt{3}}, 0\\right) \\nonumber \\\\\n",
    "a_2 &= \\left(-\\frac{a}{\\sqrt{3}}, a\\right) \\nonumber\n",
    "\\end{cases}\n",
    "\\end{align}\n",
    "$$\n",
    "\n",
    "* the reciprocal lattice vectors (RLVs):\n",
    "\n",
    "$$\n",
    "\\begin{align}\n",
    "\\begin{cases}\n",
    "b_1 &= \\left(-\\frac{\\sqrt{3}\\pi}{a}, -\\frac{\\pi}{a}\\right) \\nonumber \\\\\n",
    "b_2 &= \\left(0, \\frac{2\\pi}{a}\\right) \\nonumber\n",
    "\\end{cases}\n",
    "\\end{align}\n",
    "$$\n",
    "\n",
    "the magnitude of the principal RLVs is $\\frac{2\\pi}{a}$\n",
    "\n",
    "#### the mode expansion\n",
    "\n",
    "The density $n$ of the crystalline state can be expressed in terms of the reciprocal lattice vectors (RLVs) $\\mathbf{k}$'s\n",
    "\n",
    "$$\n",
    "\\begin{align}\n",
    "n(r) = n_0+\\sum_\\mathbf{k}A_ke^{i\\mathbf{k}\\cdot\\mathbf{r}}\n",
    "\\end{align}\n",
    "$$\n",
    "\n",
    "* 1st mode\n",
    "\n",
    "The 1st mode consists of $(1,0), (0,1), (-1,-1)$:\n",
    "\n",
    "$$\n",
    "\\begin{align}\n",
    "\\sum_\\mathbf{k_1} A_{1}e^{i\\mathbf{k_1} \\cdot\\mathbf{r}} =A_1\\left[ 2 \\cos \\left(\\frac{\\pi  \\sqrt{3} x}{a}+\\frac{\\pi  y}{a}\\right)+2 \\cos \\left(\\frac{\\sqrt{3} \\pi  x}{a}-\\frac{\\pi  y}{a}\\right)+2 \\cos \\left(\\frac{2 \\pi  y}{a}\\right)\\right]\n",
    "\\end{align}\n",
    "$$\n",
    "\n",
    "* 2nd mode\n",
    "\n",
    "The 2nd mode consists of $(-1,-2), (-2,-1), (-1,1)$:\n",
    "\n",
    "$$\n",
    "\\begin{align}\n",
    "\\sum_\\mathbf{k_2} A_{2}e^{i\\mathbf{k_2} \\cdot\\mathbf{r}} = A_2\\left[2 \\cos \\left(\\frac{\\pi  \\sqrt{3} x}{a}+\\frac{3 \\pi  y}{a}\\right)+2 \\cos \\left(\\frac{\\sqrt{3} \\pi  x}{a}-\\frac{3 \\pi  y}{a}\\right)+2 \\cos \\left(\\frac{2 \\sqrt{3} \\pi  x}{a}\\right)\\right] \n",
    "\\end{align}\n",
    "$$\n",
    "\n",
    "So the density $n$ is\n",
    "\n",
    "$$\n",
    "\\begin{align}\n",
    "n(r) &= n_0+\\sum_\\mathbf{k}A_ke^{i\\mathbf{k}\\cdot\\mathbf{r}} \\approx n_0+A_{1}\\sum_\\mathbf{k_1} e^{i\\mathbf{k_1} \\cdot\\mathbf{r}}+ A{2}\\sum_\\mathbf{k_2}e^{i\\mathbf{k_2} \\cdot\\mathbf{r}}\\nonumber \\\\\n",
    "&=n_0+A_1\\left[ 2 \\cos \\left(\\frac{\\pi  \\sqrt{3} x}{a}+\\frac{\\pi  y}{a}\\right)+2 \\cos \\left(\\frac{\\sqrt{3} \\pi  x}{a}-\\frac{\\pi  y}{a}\\right)+2 \\cos \\left(\\frac{2 \\pi  y}{a}\\right)\\right] \\nonumber \\\\\n",
    "&+A_2\\left[2 \\cos \\left(\\frac{\\pi  \\sqrt{3} x}{a}+\\frac{3 \\pi  y}{a}\\right)+2 \\cos \\left(\\frac{\\sqrt{3} \\pi  x}{a}-\\frac{3 \\pi  y}{a}\\right)+2 \\cos \\left(\\frac{2 \\sqrt{3} \\pi  x}{a}\\right)\\right] \n",
    "\\end{align}\n",
    "$$\n",
    "\n",
    "in PFC implementations, $A_2=0$ is set to $0$."
   ]
  },
  {
   "cell_type": "code",
   "execution_count": 6,
   "metadata": {},
   "outputs": [
    {
     "data": {
      "text/plain": [
       "<matplotlib.image.AxesImage at 0x7bd9aff43da0>"
      ]
     },
     "execution_count": 6,
     "metadata": {},
     "output_type": "execute_result"
    },
    {
     "data": {
      "image/png": "[encoded data removed]",
      "text/plain": [
       "<Figure size 640x480 with 1 Axes>"
      ]
     },
     "metadata": {},
     "output_type": "display_data"
    }
   ],
   "source": [
    "import numpy as np\n",
    "import matplotlib.pyplot as plt\n",
    "def modeexptr(n0, a, A1, A2, x, y):\n",
    "    m1 = A1*(2*np.cos(np.pi*np.sqrt(3)*x/a+np.pi*y/a)+2*np.cos(np.pi*np.sqrt(3)*x/a-np.pi*y/a)+2*np.cos(2*np.pi*y/a))\n",
    "    m2 = A2*(2*np.cos(np.pi*np.sqrt(3)*x/a+3*np.pi*y/a)+2*np.cos(np.pi*np.sqrt(3)*x/a-3*np.pi*y/a)+2*np.cos(2*np.sqrt(3)*np.pi*x/a))\n",
    "    n = n0 + m1 + m2\n",
    "    return(n)\n",
    "x = np.arange(-3, 3.1, 0.1)\n",
    "y = np.arange(-4, 4.1, 0.1)\n",
    "X, Y = np.meshgrid(x, y, indexing='ij')\n",
    "ntri = modeexptr(0, 1, 1, 0, X, Y)\n",
    "plt.imshow(ntri)"
   ]
  },
  {
   "cell_type": "code",
   "execution_count": null,
   "metadata": {},
   "outputs": [],
   "source": []
  }
 ],
 "metadata": {
  "kernelspec": {
   "display_name": "microTi",
   "language": "python",
   "name": "python3"
  },
  "language_info": {
   "codemirror_mode": {
    "name": "ipython",
    "version": 3
   },
   "file_extension": ".py",
   "mimetype": "text/x-python",
   "name": "python",
   "nbconvert_exporter": "python",
   "pygments_lexer": "ipython3",
   "version": "3.12.5"
  }
 },
 "nbformat": 4,
 "nbformat_minor": 2
}
