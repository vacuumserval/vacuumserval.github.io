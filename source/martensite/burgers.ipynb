{
 "cells": [
  {
   "cell_type": "markdown",
   "metadata": {},
   "source": [
    "# 钛合金中的马氏体(martensite)相变\n",
    "\n",
    "参考文献：\n",
    "\n",
    "[1] *XIANG H, VAN PAEPEGEM W, KESTENS L A I. Study of Microstructural Morphology of Ti-6Al-4V Alloy by Crystallographic Analysis and Phase Field Simulation[J/OL]. Materials, 2022, 15(15): 5325. DOI:10.3390/ma15155325.*\n",
    "\n",
    "[2] [*How to Read Hexagonal Crystal Directions and Planes (Miller-Bravais Indices)*](https://msestudent.com/hexagonal-miller-bravais-indices/)\n",
    "\n",
    "[3] *SHI R, MA N, WANG Y. Predicting equilibrium shape of precipitates as function of coherency state[J/OL]. Acta Materialia, 2012, 60(10): 4172-4184. DOI:10.1016/j.actamat.2012.04.019.*\n",
    "\n",
    "\n",
    "在钛合金中，马氏体相变通常是从高温的$\\beta$相（体心立方结构，BCC）通过快速冷却，转变为$\\alpha'$马氏体相（密排六方结构，HCP）的过程。马氏体相变不涉及原子扩散，而是通过原子重新排列来形成。\n",
    "\n",
    "*Theoretically, unlike diffusion transformations, martensitic transformations (also known as displacive transformations) involve short-range atomic displacements, which result in a change of crystal structure with minimum transformation elastic strain energy. Based on the Burgers orientation correspondence, for the martensitic transformation of Ti-6Al-4V alloy, the lattice orthohexagonal reference system between BCC and HCP cells is shown in Figure 1* [1] - 理论上，与扩散型相变不同，马氏体相变涉及短程原子位移，这导致晶体结构发生变化，同时使变形弹性应变能最小化。基于Burgers取向对应关系，对于Ti-6Al-4V合金的马氏体相变，BCC和HCP晶胞之间的正六边形参考系统如图1所示。\n",
    "\n",
    "<img src=\"https://www.mdpi.com/materials/materials-15-05325/article_deploy/html/images/materials-15-05325-g001.png\" width=\"400\" alt=\"p1\">\n",
    "\n",
    "$$\n",
    "\\begin{align}\n",
    "x_o\\parallel [100] \\parallel [1\\bar{1}0]_\\beta &\\parallel [0001]_\\alpha \\\\\n",
    "y_o\\parallel [010] \\parallel [110]_\\beta &\\parallel [10\\bar{1}0]_\\alpha \\\\\n",
    "z_o\\parallel [001] \\parallel [001]_\\beta &\\parallel [\\bar{1}2\\bar{1}0]_\\alpha\n",
    "\\end{align}\n",
    "$$"
   ]
  },
  {
   "cell_type": "markdown",
   "metadata": {},
   "source": [
    "## 与母相($\\beta$)间坐标的关系\n",
    "\n",
    "*To formulate the SFTS, it is required to know the lattice correspondence between the parent and product phases. Fig. 3 shows the Burgers ORs between the two phases in both three dimensions (Fig. 3a–c) and two dimensions (Fig. 3d–f).* [3] - 需要了解母相和产物相之间的晶格对应关系。图3展示了两相之间的Burgers取向关系，在三维（图3a-c）和二维（图3d-f）中都有所展示。\n",
    "\n",
    "<img src=\"./image/burgersog.png\" width=\"600\" alt=\"p1\">\n",
    "\n",
    "简单来说，就是界面是子图(d)-即BCC的$[101]$面，和子图(e)-即HCP的$[0001]$面叠在了一起。两套格子分别的、三个非共面方向的最近邻原子间距应该相同。\n",
    "\n",
    "* 在BCC中，选取的（最近邻）三个非共面向量为：$[010]_\\beta$，近邻原子间距$a_\\beta$；$[\\bar{1}11]_\\beta$，近邻原子间距$\\sqrt{a_\\beta^2+2a_\\beta^2}/2=\\frac{\\sqrt{3}}{2}a_\\beta$； $[101]_\\beta$，近邻原子间距$\\sqrt{2}a_\\beta$。注意前两个向量并不等边，稍后讨论。\n",
    "* 在HCP中，选取的（最近邻）三个非共面向量为："
   ]
  },
  {
   "cell_type": "markdown",
   "metadata": {},
   "source": []
  }
 ],
 "metadata": {
  "kernelspec": {
   "display_name": "microTi",
   "language": "python",
   "name": "python3"
  },
  "language_info": {
   "codemirror_mode": {
    "name": "ipython",
    "version": 3
   },
   "file_extension": ".py",
   "mimetype": "text/x-python",
   "name": "python",
   "nbconvert_exporter": "python",
   "pygments_lexer": "ipython3",
   "version": "3.12.4"
  }
 },
 "nbformat": 4,
 "nbformat_minor": 2
}
